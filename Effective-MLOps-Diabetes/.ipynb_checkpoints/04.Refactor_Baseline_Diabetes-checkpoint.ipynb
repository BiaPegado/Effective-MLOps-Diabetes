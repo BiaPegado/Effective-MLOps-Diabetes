{
 "cells": [
  {
   "cell_type": "code",
   "execution_count": null,
   "metadata": {},
   "outputs": [],
   "source": [
    "!pip install wget\n",
    "!wget https://raw.githubusercontent.com/wandb/edu/main/mlops-001/lesson1/requirements.txt\n",
    "\n",
    "\n",
    "!pip install -r requirements.txt\n",
    "import gdown\n",
    "url = 'https://drive.google.com/file/d/1Ns80_G8fAA0xs4e-7yvCVToYD-D5bNmb/view?usp=sharing'\n",
    "output = 'params.py'\n",
    "gdown.download(url=url, output=output, quiet=False, fuzzy=True)"
   ]
  },
  {
   "cell_type": "code",
   "execution_count": null,
   "metadata": {},
   "outputs": [],
   "source": [
    "import wandb\n",
    "import pandas as pd\n",
    "from fastai.vision.all import *\n",
    "from sklearn.model_selection import train_test_split\n",
    "from sklearn.preprocessing import StandardScaler, LabelEncoder\n",
    "from sklearn.linear_model import LogisticRegression\n",
    "from sklearn.metrics import classification_report, accuracy_score\n",
    "from sklearn.preprocessing import StandardScaler\n",
    "\n",
    "import params\n",
    "\n",
    "train_config = SimpleNamespace(\n",
    "    project=params.WANDB_PROJECT,\n",
    "    entity=params.ENTITY,\n",
    "    bdd_classes=params.BDD_CLASSES,\n",
    "    raw_data_at=params.RAW_DATA_AT,\n",
    "    processed_data_at=params.PROCESSED_DATA_AT,\n",
    "    job_type=\"train\",\n",
    "    framework=\"sklearn\",\n",
    "    seed=42,\n",
    ")\n"
   ]
  },
  {
   "cell_type": "code",
   "execution_count": null,
   "metadata": {},
   "outputs": [],
   "source": [
    "def download_data():\n",
    "  processed_data_at = wandb.use_artifact(f'{train_config.processed_data_at}:latest')\n",
    "  processed_dataset_dir = Path(processed_data_at.download())\n",
    "  df = pd.read_csv(processed_dataset_dir / 'data_split.csv')\n",
    "  return df"
   ]
  },
  {
   "cell_type": "code",
   "execution_count": null,
   "metadata": {},
   "outputs": [],
   "source": [
    "def preprocess_data():\n",
    "  df = download_data()\n",
    "  df_copy = df.copy()\n",
    "  label_encoder = LabelEncoder()\n",
    "  df_copy['classe'] = label_encoder.fit_transform(df['classe'])\n",
    "\n",
    "  return df_copy"
   ]
  },
  {
   "cell_type": "code",
   "execution_count": null,
   "metadata": {},
   "outputs": [],
   "source": [
    "def get_df(is_test=False):\n",
    "  df = preprocess_data()\n",
    "\n",
    "  if is_test:\n",
    "      return df[df['Stage'] == 'test']\n",
    "  else:\n",
    "      df_train = df[df['Stage'] == 'train']\n",
    "      df_valid = df[df['Stage'] == 'valid']\n",
    "      return df_train, df_valid"
   ]
  },
  {
   "cell_type": "code",
   "execution_count": null,
   "metadata": {},
   "outputs": [],
   "source": [
    "def split(is_test=False):\n",
    "\n",
    "  if not is_test:\n",
    "      df_train, df_valid = get_df(is_test=False)\n",
    "      X_train = df_train.drop(columns=['classe', '0', 'Stage'])\n",
    "      y_train = df_train['classe']\n",
    "      X_val = df_valid.drop(columns=['classe', '0', 'Stage'])\n",
    "      y_val = df_valid['classe']\n",
    "      return X_train, y_train, X_val, y_val\n",
    "  else:\n",
    "      df_test = get_df(is_test=True)\n",
    "      X_test = df_test.drop(columns=['classe', '0', 'Stage'])\n",
    "      y_test = df_test['classe']\n",
    "      return X_test, y_test"
   ]
  },
  {
   "cell_type": "code",
   "execution_count": null,
   "metadata": {},
   "outputs": [],
   "source": [
    "def log_predictions(val_accuracy, val_report, test_accuracy, test_report, y_test, y_test_pred):\n",
    "\n",
    "  print(\"==== Resultados - Validação ====\")\n",
    "  print(f\"Acurácia: {val_accuracy:.4f}\")\n",
    "  print(val_report)\n",
    "\n",
    "  print(\"\\n==== Resultados - Teste ====\")\n",
    "  print(f\"Acurácia: {test_accuracy:.4f}\")\n",
    "  print(test_report)\n",
    "\n",
    "  df_test = get_df(is_test=True)\n",
    "  predictions_df = pd.DataFrame({\n",
    "      'id': df_test['0'],\n",
    "      'Ground Truth': y_test,\n",
    "      'Predictions': y_test_pred\n",
    "  })\n",
    "\n",
    "  # Criar uma tabela W&B\n",
    "  table = wandb.Table(dataframe=predictions_df)\n",
    "\n",
    "  # Logar a tabela no W&B\n",
    "  wandb.log({\"prediction_table\": table})\n",
    "\n",
    "def log_final_metrics(val_accuracy, test_accuracy):\n",
    "    # Salvar as métricas finais\n",
    "    final_metrics = {\n",
    "        'val_accuracy': val_accuracy,\n",
    "        'test_accuracy': test_accuracy\n",
    "    }\n",
    "\n",
    "    # Logar as métricas finais no W&B\n",
    "    wandb.summary.update(final_metrics)\n",
    "    print(\"Final metrics logged.\")"
   ]
  },
  {
   "cell_type": "code",
   "execution_count": null,
   "metadata": {},
   "outputs": [],
   "source": [
    "def train_model(train_config):\n",
    "  run = wandb.init(project=train_config.project, entity=train_config.entity, job_type=train_config.job_type, config=train_config)\n",
    "\n",
    "  X_train, y_train, X_val, y_val = split()\n",
    "  X_test, y_test = split(is_test=True)\n",
    "\n",
    "  scaler = StandardScaler()\n",
    "  X_train = scaler.fit_transform(X_train)\n",
    "  X_val = scaler.transform(X_val)\n",
    "\n",
    "  model = LogisticRegression(random_state=train_config.seed, max_iter=1000, class_weight='balanced')\n",
    "\n",
    "  model.fit(X_train, y_train)\n",
    "\n",
    "  y_val_pred = model.predict(X_val)\n",
    "  y_test_pred = model.predict(X_test)\n",
    "\n",
    "  val_accuracy = accuracy_score(y_val, y_val_pred)\n",
    "  val_report = classification_report(y_val, y_val_pred)\n",
    "\n",
    "  test_accuracy = accuracy_score(y_test, y_test_pred)\n",
    "  test_report = classification_report(y_test, y_test_pred)\n",
    "\n",
    "  log_predictions(val_accuracy, val_report, test_accuracy, test_report, y_test, y_test_pred)\n",
    "  log_final_metrics(val_accuracy, test_accuracy)\n",
    "\n",
    "  wandb.finish()"
   ]
  },
  {
   "cell_type": "code",
   "execution_count": null,
   "metadata": {},
   "outputs": [],
   "source": [
    "train_model(train_config)"
   ]
  }
 ],
 "metadata": {
  "kernelspec": {
   "display_name": "Python 3 (ipykernel)",
   "language": "python",
   "name": "python3"
  },
  "language_info": {
   "codemirror_mode": {
    "name": "ipython",
    "version": 3
   },
   "file_extension": ".py",
   "mimetype": "text/x-python",
   "name": "python",
   "nbconvert_exporter": "python",
   "pygments_lexer": "ipython3",
   "version": "3.11.9"
  }
 },
 "nbformat": 4,
 "nbformat_minor": 4
}

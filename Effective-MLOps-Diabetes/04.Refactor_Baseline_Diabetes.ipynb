{
 "cells": [
  {
   "cell_type": "code",
   "execution_count": 1,
   "metadata": {},
   "outputs": [
    {
     "name": "stdout",
     "output_type": "stream",
     "text": [
      "100% [....................................................................................] 82 / 82"
     ]
    },
    {
     "name": "stderr",
     "output_type": "stream",
     "text": [
      "Downloading...\n",
      "From (original): https://drive.google.com/uc?id=1Ns80_G8fAA0xs4e-7yvCVToYD-D5bNmb\n",
      "From (redirected): https://drive.google.com/uc?id=1Ns80_G8fAA0xs4e-7yvCVToYD-D5bNmb&confirm=t&uuid=d03694cf-2cc2-4eb1-95d0-2b145f0174e0\n",
      "To: C:\\Users\\abia0\\OneDrive\\Área de Trabalho\\Projetos\\Faculdade\\topicos_especiais\\Effective-MLops\\params.py\n",
      "\n",
      "00%|█████████████████████████████████████████████████████████████████████████████████| 278/278 [00:00<00:00, 76.4kB/s]"
     ]
    },
    {
     "data": {
      "text/plain": [
       "'params.py'"
      ]
     },
     "execution_count": 1,
     "metadata": {},
     "output_type": "execute_result"
    }
   ],
   "source": [
    "import wget\n",
    "url = 'https://raw.githubusercontent.com/wandb/edu/main/mlops-001/lesson1/requirements.txt'\n",
    "wget.download(url, 'requirements.txt')\n",
    "\n",
    "import gdown\n",
    "url = 'https://drive.google.com/file/d/1Ns80_G8fAA0xs4e-7yvCVToYD-D5bNmb/view?usp=sharing'\n",
    "output = 'params.py'\n",
    "gdown.download(url=url, output=output, quiet=False, fuzzy=True)"
   ]
  },
  {
   "cell_type": "code",
   "execution_count": 2,
   "metadata": {},
   "outputs": [],
   "source": [
    "import wandb\n",
    "import pandas as pd\n",
    "from fastai.vision.all import *\n",
    "from sklearn.model_selection import train_test_split\n",
    "from sklearn.preprocessing import StandardScaler, LabelEncoder\n",
    "from sklearn.linear_model import LogisticRegression\n",
    "from sklearn.metrics import classification_report, accuracy_score\n",
    "from sklearn.preprocessing import StandardScaler\n",
    "\n",
    "import params\n",
    "\n",
    "train_config = SimpleNamespace(\n",
    "    project=params.WANDB_PROJECT,\n",
    "    entity=params.ENTITY,\n",
    "    bdd_classes=params.BDD_CLASSES,\n",
    "    raw_data_at=params.RAW_DATA_AT,\n",
    "    processed_data_at=params.PROCESSED_DATA_AT,\n",
    "    job_type=\"train\",\n",
    "    framework=\"sklearn\",\n",
    "    seed=42,\n",
    ")\n"
   ]
  },
  {
   "cell_type": "code",
   "execution_count": 3,
   "metadata": {},
   "outputs": [],
   "source": [
    "def download_data():\n",
    "  processed_data_at = wandb.use_artifact(f'{train_config.processed_data_at}:latest')\n",
    "  processed_dataset_dir = Path(processed_data_at.download())\n",
    "  df = pd.read_csv(processed_dataset_dir / 'data_split.csv')\n",
    "  return df"
   ]
  },
  {
   "cell_type": "code",
   "execution_count": 4,
   "metadata": {},
   "outputs": [],
   "source": [
    "def preprocess_data():\n",
    "  df = download_data()\n",
    "  df_copy = df.copy()\n",
    "  label_encoder = LabelEncoder()\n",
    "  df_copy['classe'] = label_encoder.fit_transform(df['classe'])\n",
    "\n",
    "  return df_copy"
   ]
  },
  {
   "cell_type": "code",
   "execution_count": 5,
   "metadata": {},
   "outputs": [],
   "source": [
    "def get_df(is_test=False):\n",
    "  df = preprocess_data()\n",
    "\n",
    "  if is_test:\n",
    "      return df[df['Stage'] == 'test']\n",
    "  else:\n",
    "      df_train = df[df['Stage'] == 'train']\n",
    "      df_valid = df[df['Stage'] == 'valid']\n",
    "      return df_train, df_valid"
   ]
  },
  {
   "cell_type": "code",
   "execution_count": 6,
   "metadata": {},
   "outputs": [],
   "source": [
    "def split(is_test=False):\n",
    "\n",
    "  if not is_test:\n",
    "      df_train, df_valid = get_df(is_test=False)\n",
    "      X_train = df_train.drop(columns=['classe', '0', 'Stage'])\n",
    "      y_train = df_train['classe']\n",
    "      X_val = df_valid.drop(columns=['classe', '0', 'Stage'])\n",
    "      y_val = df_valid['classe']\n",
    "      return X_train, y_train, X_val, y_val\n",
    "  else:\n",
    "      df_test = get_df(is_test=True)\n",
    "      X_test = df_test.drop(columns=['classe', '0', 'Stage'])\n",
    "      y_test = df_test['classe']\n",
    "      return X_test, y_test"
   ]
  },
  {
   "cell_type": "code",
   "execution_count": 7,
   "metadata": {},
   "outputs": [],
   "source": [
    "def log_predictions(val_accuracy, val_report, test_accuracy, test_report, y_test, y_test_pred):\n",
    "\n",
    "  print(\"==== Resultados - Validação ====\")\n",
    "  print(f\"Acurácia: {val_accuracy:.4f}\")\n",
    "  print(val_report)\n",
    "\n",
    "  print(\"\\n==== Resultados - Teste ====\")\n",
    "  print(f\"Acurácia: {test_accuracy:.4f}\")\n",
    "  print(test_report)\n",
    "\n",
    "  df_test = get_df(is_test=True)\n",
    "  predictions_df = pd.DataFrame({\n",
    "      'id': df_test['0'],\n",
    "      'Ground Truth': y_test,\n",
    "      'Predictions': y_test_pred\n",
    "  })\n",
    "\n",
    "  # Criar uma tabela W&B\n",
    "  table = wandb.Table(dataframe=predictions_df)\n",
    "\n",
    "  # Logar a tabela no W&B\n",
    "  wandb.log({\"prediction_table\": table})\n",
    "\n",
    "def log_final_metrics(val_accuracy, test_accuracy):\n",
    "    # Salvar as métricas finais\n",
    "    final_metrics = {\n",
    "        'val_accuracy': val_accuracy,\n",
    "        'test_accuracy': test_accuracy\n",
    "    }\n",
    "\n",
    "    # Logar as métricas finais no W&B\n",
    "    wandb.summary.update(final_metrics)\n",
    "    print(\"Final metrics logged.\")"
   ]
  },
  {
   "cell_type": "code",
   "execution_count": 8,
   "metadata": {},
   "outputs": [],
   "source": [
    "def train_model(train_config):\n",
    "  run = wandb.init(project=train_config.project, entity=train_config.entity, job_type=train_config.job_type, config=train_config)\n",
    "\n",
    "  X_train, y_train, X_val, y_val = split()\n",
    "  X_test, y_test = split(is_test=True)\n",
    "\n",
    "  scaler = StandardScaler()\n",
    "  X_train = scaler.fit_transform(X_train)\n",
    "  X_val = scaler.transform(X_val)\n",
    "\n",
    "  model = LogisticRegression(random_state=train_config.seed, max_iter=1000, class_weight='balanced')\n",
    "\n",
    "  model.fit(X_train, y_train)\n",
    "\n",
    "  y_val_pred = model.predict(X_val)\n",
    "  y_test_pred = model.predict(X_test)\n",
    "\n",
    "  val_accuracy = accuracy_score(y_val, y_val_pred)\n",
    "  val_report = classification_report(y_val, y_val_pred)\n",
    "\n",
    "  test_accuracy = accuracy_score(y_test, y_test_pred)\n",
    "  test_report = classification_report(y_test, y_test_pred)\n",
    "\n",
    "  log_predictions(val_accuracy, val_report, test_accuracy, test_report, y_test, y_test_pred)\n",
    "  log_final_metrics(val_accuracy, test_accuracy)\n",
    "\n",
    "  wandb.finish()"
   ]
  },
  {
   "cell_type": "code",
   "execution_count": 9,
   "metadata": {},
   "outputs": [
    {
     "name": "stderr",
     "output_type": "stream",
     "text": [
      "wandb: Using wandb-core as the SDK backend.  Please refer to https://wandb.me/wandb-core for more information.\n",
      "wandb: Logging into wandb.ai. (Learn how to deploy a W&B server locally: https://wandb.me/wandb-server)\n",
      "wandb: You can find your API key in your browser here: https://wandb.ai/authorize\n",
      "wandb: Paste an API key from your profile and hit enter, or press ctrl+c to quit:"
     ]
    },
    {
     "name": "stdin",
     "output_type": "stream",
     "text": [
      "  ········\n"
     ]
    },
    {
     "name": "stderr",
     "output_type": "stream",
     "text": [
      "wandb: Appending key for api.wandb.ai to your netrc file: C:\\Users\\abia0\\_netrc\n"
     ]
    },
    {
     "data": {
      "application/vnd.jupyter.widget-view+json": {
       "model_id": "c1952cf96e284d0f879b6b7e75f85215",
       "version_major": 2,
       "version_minor": 0
      },
      "text/plain": [
       "VBox(children=(Label(value='Waiting for wandb.init()...\\r'), FloatProgress(value=0.011288888888925108, max=1.0…"
      ]
     },
     "metadata": {},
     "output_type": "display_data"
    },
    {
     "data": {
      "text/html": [
       "Tracking run with wandb version 0.18.7"
      ],
      "text/plain": [
       "<IPython.core.display.HTML object>"
      ]
     },
     "metadata": {},
     "output_type": "display_data"
    },
    {
     "data": {
      "text/html": [
       "Run data is saved locally in <code>C:\\Users\\abia0\\OneDrive\\Área de Trabalho\\Projetos\\Faculdade\\topicos_especiais\\Effective-MLops\\wandb\\run-20241207_185443-9f2fpj56</code>"
      ],
      "text/plain": [
       "<IPython.core.display.HTML object>"
      ]
     },
     "metadata": {},
     "output_type": "display_data"
    },
    {
     "data": {
      "text/html": [
       "Syncing run <strong><a href='https://wandb.ai/abiapegado014-ufrn/mlops-course-assignment/runs/9f2fpj56' target=\"_blank\">eager-glitter-59</a></strong> to <a href='https://wandb.ai/abiapegado014-ufrn/mlops-course-assignment' target=\"_blank\">Weights & Biases</a> (<a href='https://wandb.me/developer-guide' target=\"_blank\">docs</a>)<br/>"
      ],
      "text/plain": [
       "<IPython.core.display.HTML object>"
      ]
     },
     "metadata": {},
     "output_type": "display_data"
    },
    {
     "data": {
      "text/html": [
       " View project at <a href='https://wandb.ai/abiapegado014-ufrn/mlops-course-assignment' target=\"_blank\">https://wandb.ai/abiapegado014-ufrn/mlops-course-assignment</a>"
      ],
      "text/plain": [
       "<IPython.core.display.HTML object>"
      ]
     },
     "metadata": {},
     "output_type": "display_data"
    },
    {
     "data": {
      "text/html": [
       " View run at <a href='https://wandb.ai/abiapegado014-ufrn/mlops-course-assignment/runs/9f2fpj56' target=\"_blank\">https://wandb.ai/abiapegado014-ufrn/mlops-course-assignment/runs/9f2fpj56</a>"
      ],
      "text/plain": [
       "<IPython.core.display.HTML object>"
      ]
     },
     "metadata": {},
     "output_type": "display_data"
    },
    {
     "name": "stderr",
     "output_type": "stream",
     "text": [
      "wandb:   3 of 3 files downloaded.  \n",
      "wandb:   3 of 3 files downloaded.  \n",
      "C:\\Users\\abia0\\AppData\\Local\\Packages\\PythonSoftwareFoundation.Python.3.11_qbz5n2kfra8p0\\LocalCache\\local-packages\\Python311\\site-packages\\sklearn\\base.py:486: UserWarning: X has feature names, but LogisticRegression was fitted without feature names\n",
      "  warnings.warn(\n"
     ]
    },
    {
     "name": "stdout",
     "output_type": "stream",
     "text": [
      "==== Resultados - Validação ====\n",
      "Acurácia: 0.8167\n",
      "              precision    recall  f1-score   support\n",
      "\n",
      "           0       0.91      0.70      0.79        30\n",
      "           1       0.76      0.93      0.84        30\n",
      "\n",
      "    accuracy                           0.82        60\n",
      "   macro avg       0.83      0.82      0.81        60\n",
      "weighted avg       0.83      0.82      0.81        60\n",
      "\n",
      "\n",
      "==== Resultados - Teste ====\n",
      "Acurácia: 0.5167\n",
      "              precision    recall  f1-score   support\n",
      "\n",
      "           0       1.00      0.03      0.06        30\n",
      "           1       0.51      1.00      0.67        30\n",
      "\n",
      "    accuracy                           0.52        60\n",
      "   macro avg       0.75      0.52      0.37        60\n",
      "weighted avg       0.75      0.52      0.37        60\n",
      "\n"
     ]
    },
    {
     "name": "stderr",
     "output_type": "stream",
     "text": [
      "wandb:   3 of 3 files downloaded.  \n"
     ]
    },
    {
     "name": "stdout",
     "output_type": "stream",
     "text": [
      "Final metrics logged.\n"
     ]
    },
    {
     "data": {
      "text/html": [
       "\n",
       "    <style>\n",
       "        .wandb-row {\n",
       "            display: flex;\n",
       "            flex-direction: row;\n",
       "            flex-wrap: wrap;\n",
       "            justify-content: flex-start;\n",
       "            width: 100%;\n",
       "        }\n",
       "        .wandb-col {\n",
       "            display: flex;\n",
       "            flex-direction: column;\n",
       "            flex-basis: 100%;\n",
       "            flex: 1;\n",
       "            padding: 10px;\n",
       "        }\n",
       "    </style>\n",
       "<div class=\"wandb-row\"><div class=\"wandb-col\"><h3>Run summary:</h3><br/><table class=\"wandb\"><tr><td>test_accuracy</td><td>0.51667</td></tr><tr><td>val_accuracy</td><td>0.81667</td></tr></table><br/></div></div>"
      ],
      "text/plain": [
       "<IPython.core.display.HTML object>"
      ]
     },
     "metadata": {},
     "output_type": "display_data"
    },
    {
     "data": {
      "text/html": [
       " View run <strong style=\"color:#cdcd00\">eager-glitter-59</strong> at: <a href='https://wandb.ai/abiapegado014-ufrn/mlops-course-assignment/runs/9f2fpj56' target=\"_blank\">https://wandb.ai/abiapegado014-ufrn/mlops-course-assignment/runs/9f2fpj56</a><br/> View project at: <a href='https://wandb.ai/abiapegado014-ufrn/mlops-course-assignment' target=\"_blank\">https://wandb.ai/abiapegado014-ufrn/mlops-course-assignment</a><br/>Synced 5 W&B file(s), 0 media file(s), 2 artifact file(s) and 1 other file(s)"
      ],
      "text/plain": [
       "<IPython.core.display.HTML object>"
      ]
     },
     "metadata": {},
     "output_type": "display_data"
    },
    {
     "data": {
      "text/html": [
       "Find logs at: <code>.\\wandb\\run-20241207_185443-9f2fpj56\\logs</code>"
      ],
      "text/plain": [
       "<IPython.core.display.HTML object>"
      ]
     },
     "metadata": {},
     "output_type": "display_data"
    }
   ],
   "source": [
    "train_model(train_config)"
   ]
  }
 ],
 "metadata": {
  "kernelspec": {
   "display_name": "Python 3 (ipykernel)",
   "language": "python",
   "name": "python3"
  },
  "language_info": {
   "codemirror_mode": {
    "name": "ipython",
    "version": 3
   },
   "file_extension": ".py",
   "mimetype": "text/x-python",
   "name": "python",
   "nbconvert_exporter": "python",
   "pygments_lexer": "ipython3",
   "version": "3.11.9"
  }
 },
 "nbformat": 4,
 "nbformat_minor": 4
}
